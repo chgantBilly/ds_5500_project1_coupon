{
 "cells": [
  {
   "cell_type": "markdown",
   "id": "pending-reaction",
   "metadata": {},
   "source": [
    "# Prediction of Coupon Redemption"
   ]
  },
  {
   "cell_type": "markdown",
   "id": "strange-creature",
   "metadata": {},
   "source": [
    "## dependencies"
   ]
  },
  {
   "cell_type": "code",
   "execution_count": 1,
   "id": "dominant-basketball",
   "metadata": {},
   "outputs": [],
   "source": [
    "%matplotlib inline  \n",
    "import pandas as pd\n",
    "import numpy as np\n",
    "import matplotlib.pyplot as plt\n",
    "from datetime import datetime\n",
    "import seaborn as sns\n",
    "\n",
    "import warnings\n",
    "warnings.filterwarnings('ignore')"
   ]
  },
  {
   "cell_type": "markdown",
   "id": "alone-worse",
   "metadata": {},
   "source": [
    "## data loading"
   ]
  },
  {
   "cell_type": "code",
   "execution_count": 2,
   "id": "guilty-basin",
   "metadata": {},
   "outputs": [],
   "source": [
    "offline_train = pd.read_csv(\"dataset/ccf_offline_stage1_train.csv\")\n",
    "online_train = pd.read_csv(\"dataset/ccf_online_stage1_train.csv\")\n",
    "offline_test = pd.read_csv(\"dataset/ccf_offline_stage1_test_revised.csv\")"
   ]
  },
  {
   "cell_type": "code",
   "execution_count": 3,
   "id": "insured-genre",
   "metadata": {},
   "outputs": [
    {
     "name": "stdout",
     "output_type": "stream",
     "text": [
      "1.1.5\n"
     ]
    }
   ],
   "source": [
    "print(pd.__version__)"
   ]
  },
  {
   "cell_type": "markdown",
   "id": "greatest-auction",
   "metadata": {},
   "source": [
    "## data cleaning"
   ]
  },
  {
   "cell_type": "code",
   "execution_count": 26,
   "id": "dressed-hypothesis",
   "metadata": {},
   "outputs": [],
   "source": [
    "# cast str to date time --Guangyi\n",
    "online_train['Date_received'] = pd.to_datetime(online_train['Date_received'],format='%Y%m%d')\n",
    "online_train['Date'] = pd.to_datetime(online_train['Date'],format='%Y%m%d')\n",
    "\n",
    "offline_train['Date_received'] = pd.to_datetime(offline_train['Date_received'],format='%Y%m%d')\n",
    "offline_train['Date'] = pd.to_datetime(offline_train['Date'],format='%Y%m%d')\n",
    "\n",
    "offline_test['Date_received'] = pd.to_datetime(offline_test['Date_received'],format='%Y%m%d')\n",
    "#offline_test['Date'] = pd.to_datetime(offline_test['Date'],format='%Y%m%d')\n",
    "\n",
    "#get discount type\n",
    "def get_discount_type(s)->str:\n",
    "    s=str(s)\n",
    "    if \":\" in s:\n",
    "        return \"1\"\n",
    "    elif \".\" in s:\n",
    "        return \"0\"\n",
    "    #elif s == \"fixed\":\n",
    "    #    return \"fixed\"\n",
    "    else:\n",
    "        return np.nan\n",
    "    \n",
    "#get uniform discount rate\n",
    "def get_uniform_discount_rate(s)->float:\n",
    "    str_value = str(s)\n",
    "    rate = None\n",
    "    if \".\" in str_value:\n",
    "        rate = float(s)\n",
    "    elif \":\" in str_value:\n",
    "        split = str_value.split(\":\")\n",
    "#         if(len(split)==2):\n",
    "        rate = float(1-float(split[1])/float(split[0]))\n",
    "#         else:\n",
    "#             rate = float(split[0])\n",
    "    return rate\n",
    "\n",
    "#get promotion condition\n",
    "def get_promotion_condition(s)->int:\n",
    "    if pd.isna(s):\n",
    "        return None\n",
    "    str_value = str(s)\n",
    "    if \":\" in str_value:\n",
    "        return int(str_value.split(\":\")[0])\n",
    "    else:\n",
    "        return -1\n",
    "    \n",
    "#get promotion amount\n",
    "def get_promotion_amount(s)->int:\n",
    "    if pd.isna(s):\n",
    "        return None\n",
    "    str_value = str(s)\n",
    "    if \":\" in str_value:\n",
    "        return int(str_value.split(\":\")[1])\n",
    "    else:\n",
    "        return -1\n",
    "\n",
    "# get date gap\n",
    "def get_date_diff(d1,d2):\n",
    "    return (d2-d1).days\n",
    "\n",
    "# get label(coupon was used within 15 days)\n",
    "def get_label(d1,d2)->bool:\n",
    "    gap = get_date_diff(d1,d2)\n",
    "    if not pd.isna(gap):\n",
    "        return gap<=15\n",
    "    else:\n",
    "        return None\n",
    "\n",
    "def data_cleaning(df):\n",
    "    df_d = df.copy()\n",
    "    df_d['discount_type']=df_d['Discount_rate'].apply(get_discount_type)\n",
    "    df_d['uniform_discount_rate']=df_d['Discount_rate'].apply(get_uniform_discount_rate)\n",
    "    df_d['promotion_condition']=df_d['Discount_rate'].apply(get_promotion_condition)\n",
    "    df_d['promotion_amonut']=df_d['Discount_rate'].apply(get_promotion_amount)\n",
    "    #df_d['date_gap']=(df_d['Date']-df_d['Date_received']).apply(lambda x:x.days)\n",
    "    return df_d\n",
    "\n",
    "offline_train_d = data_cleaning(offline_train)\n",
    "online_train_d = data_cleaning(online_train)\n",
    "offline_test_d  = data_cleaning(offline_test)"
   ]
  },
  {
   "cell_type": "code",
   "execution_count": 57,
   "id": "conceptual-vanilla",
   "metadata": {},
   "outputs": [],
   "source": [
    "offline_train_d.to_csv('./dataset/offline_train.csv',index=False)\n",
    "offline_test_d.to_csv('./dataset/offline_test.csv',index=False)\n",
    "online_train_d.to_csv('./dataset/online_train.csv',index=False)"
   ]
  },
  {
   "cell_type": "markdown",
   "id": "logical-ozone",
   "metadata": {},
   "source": [
    "## EDA"
   ]
  },
  {
   "cell_type": "markdown",
   "id": "published-tractor",
   "metadata": {},
   "source": [
    "### label distribution "
   ]
  },
  {
   "cell_type": "code",
   "execution_count": 6,
   "id": "hidden-honduras",
   "metadata": {},
   "outputs": [
    {
     "data": {
      "text/plain": [
       "count                  113640\n",
       "unique                     31\n",
       "top       2016-07-03 00:00:00\n",
       "freq                     5491\n",
       "first     2016-07-01 00:00:00\n",
       "last      2016-07-31 00:00:00\n",
       "Name: Date_received, dtype: object"
      ]
     },
     "execution_count": 6,
     "metadata": {},
     "output_type": "execute_result"
    }
   ],
   "source": [
    "offline_test_d.Date_received.describe()"
   ]
  },
  {
   "cell_type": "code",
   "execution_count": 7,
   "id": "least-breakfast",
   "metadata": {},
   "outputs": [
    {
     "data": {
      "text/plain": [
       "count                 1053282\n",
       "unique                    167\n",
       "top       2016-01-29 00:00:00\n",
       "freq                    71658\n",
       "first     2016-01-01 00:00:00\n",
       "last      2016-06-15 00:00:00\n",
       "Name: Date_received, dtype: object"
      ]
     },
     "execution_count": 7,
     "metadata": {},
     "output_type": "execute_result"
    }
   ],
   "source": [
    "offline_train_d.Date_received.describe()"
   ]
  },
  {
   "cell_type": "code",
   "execution_count": 8,
   "id": "unavailable-riverside",
   "metadata": {},
   "outputs": [
    {
     "data": {
      "text/plain": [
       "count                  776984\n",
       "unique                    182\n",
       "top       2016-03-26 00:00:00\n",
       "freq                    10243\n",
       "first     2016-01-01 00:00:00\n",
       "last      2016-06-30 00:00:00\n",
       "Name: Date, dtype: object"
      ]
     },
     "execution_count": 8,
     "metadata": {},
     "output_type": "execute_result"
    }
   ],
   "source": [
    "offline_train_d.Date.describe()"
   ]
  },
  {
   "cell_type": "code",
   "execution_count": 9,
   "id": "proved-defeat",
   "metadata": {},
   "outputs": [
    {
     "data": {
      "text/plain": [
       "count                  872357\n",
       "unique                    167\n",
       "top       2016-03-06 00:00:00\n",
       "freq                    10873\n",
       "first     2016-01-01 00:00:00\n",
       "last      2016-06-15 00:00:00\n",
       "Name: Date_received, dtype: object"
      ]
     },
     "execution_count": 9,
     "metadata": {},
     "output_type": "execute_result"
    }
   ],
   "source": [
    "online_train_d.Date_received.describe()"
   ]
  },
  {
   "cell_type": "code",
   "execution_count": 10,
   "id": "tired-bread",
   "metadata": {},
   "outputs": [
    {
     "data": {
      "text/plain": [
       "count                10773928\n",
       "unique                    182\n",
       "top       2016-06-18 00:00:00\n",
       "freq                   112695\n",
       "first     2016-01-01 00:00:00\n",
       "last      2016-06-30 00:00:00\n",
       "Name: Date, dtype: object"
      ]
     },
     "execution_count": 10,
     "metadata": {},
     "output_type": "execute_result"
    }
   ],
   "source": [
    "online_train_d.Date.describe()"
   ]
  },
  {
   "cell_type": "markdown",
   "id": "democratic-nation",
   "metadata": {},
   "source": [
    "### Coupon received and redeemed in Training set"
   ]
  },
  {
   "cell_type": "code",
   "execution_count": 11,
   "id": "later-convergence",
   "metadata": {},
   "outputs": [
    {
     "data": {
      "text/plain": [
       "(1754884, 11)"
      ]
     },
     "execution_count": 11,
     "metadata": {},
     "output_type": "execute_result"
    }
   ],
   "source": [
    "offline_train_d.shape"
   ]
  },
  {
   "cell_type": "code",
   "execution_count": 12,
   "id": "legitimate-wildlife",
   "metadata": {},
   "outputs": [
    {
     "name": "stdout",
     "output_type": "stream",
     "text": [
      "transactions without received coupon : 701602\n",
      "transactions with coupon: 75382\n",
      "never used coupon: 977900\n"
     ]
    }
   ],
   "source": [
    "print('transactions without received coupon : {}'.format(len(offline_train_d[(offline_train_d['Date'].notna()) & (offline_train_d['Coupon_id'].isna())])))\n",
    "print('transactions with coupon: {}'.format(len(offline_train_d[(offline_train_d['Date'].notna()) & (offline_train_d['Coupon_id'].notna())])))\n",
    "print('never used coupon: {}'.format(len(offline_train_d[(offline_train_d['Date'].isna()) & (offline_train_d['Coupon_id'].notna())])))"
   ]
  },
  {
   "cell_type": "code",
   "execution_count": 13,
   "id": "ongoing-astrology",
   "metadata": {},
   "outputs": [],
   "source": [
    "coupon_used = offline_train_d[(offline_train_d['Date'].notna()) & (offline_train_d['Coupon_id'].notna())]\n",
    "coupon_used['datediff'] = (coupon_used['Date'] - coupon_used['Date_received']).apply(lambda x:x.days)"
   ]
  },
  {
   "cell_type": "code",
   "execution_count": 14,
   "id": "unlike-mounting",
   "metadata": {},
   "outputs": [],
   "source": [
    "coupon_used['label'] = coupon_used['datediff'] <= 15"
   ]
  },
  {
   "cell_type": "code",
   "execution_count": 15,
   "id": "determined-denmark",
   "metadata": {},
   "outputs": [
    {
     "data": {
      "text/plain": [
       "(array([9.30261866e-02, 7.02878340e-02, 3.97212973e-02, 1.94253657e-02,\n",
       "        1.15729993e-02, 1.01807848e-02, 5.72431637e-03, 6.73306735e-03,\n",
       "        1.87240765e-03, 8.80929798e-04, 4.11100572e-04, 1.55458200e-04,\n",
       "        1.41639693e-04, 1.24366560e-04, 8.29110398e-05, 3.10916399e-05,\n",
       "        1.72731333e-05, 6.90925331e-06, 6.90925331e-06, 0.00000000e+00,\n",
       "        3.45462666e-06, 0.00000000e+00, 3.45462666e-06, 3.45462666e-06,\n",
       "        3.45462666e-06]),\n",
       " array([ 0.  ,  3.84,  7.68, 11.52, 15.36, 19.2 , 23.04, 26.88, 30.72,\n",
       "        34.56, 38.4 , 42.24, 46.08, 49.92, 53.76, 57.6 , 61.44, 65.28,\n",
       "        69.12, 72.96, 76.8 , 80.64, 84.48, 88.32, 92.16, 96.  ]),\n",
       " <a list of 25 Patch objects>)"
      ]
     },
     "execution_count": 15,
     "metadata": {},
     "output_type": "execute_result"
    },
    {
     "data": {
      "image/png": "[encoded data removed]",
      "text/plain": [
       "<Figure size 432x288 with 1 Axes>"
      ]
     },
     "metadata": {
      "needs_background": "light"
     },
     "output_type": "display_data"
    }
   ],
   "source": [
    "plt.hist(coupon_used['datediff'],bins=25,density=True)"
   ]
  },
  {
   "cell_type": "code",
   "execution_count": 16,
   "id": "dangerous-pattern",
   "metadata": {},
   "outputs": [
    {
     "data": {
      "text/plain": [
       "True     64395\n",
       "False    10987\n",
       "Name: label, dtype: int64"
      ]
     },
     "execution_count": 16,
     "metadata": {},
     "output_type": "execute_result"
    }
   ],
   "source": [
    "coupon_used['label'].value_counts()"
   ]
  },
  {
   "cell_type": "code",
   "execution_count": 17,
   "id": "terminal-company",
   "metadata": {},
   "outputs": [
    {
     "name": "stdout",
     "output_type": "stream",
     "text": [
      "# unlabeled date(purchase without received coupon):701602\n",
      "# labeled data(with coupon Information):1053282\n",
      "% Negative label(received coupon, but never used):92.843%\n",
      "% Positive label(received coupon, used in 15 days):6.114%\n",
      "% Neutral label:(received coupon, used after 15 days):1.043%\n"
     ]
    }
   ],
   "source": [
    "print('# unlabeled date(purchase without received coupon):{}'.format(701602))\n",
    "print('# labeled data(with coupon Information):{}'.format((977900 + 75382)))\n",
    "print('% Negative label(received coupon, but never used):{:.3%}'.format(977900/(977900 + 75382)))\n",
    "print('% Positive label(received coupon, used in 15 days):{:.3%}'.format(64395/(977900 + 75382)))\n",
    "print('% Neutral label:(received coupon, used after 15 days):{:.3%}'.format(10987/(977900 + 75382)))"
   ]
  },
  {
   "cell_type": "code",
   "execution_count": 18,
   "id": "constitutional-flood",
   "metadata": {},
   "outputs": [],
   "source": [
    "labeled = offline_train_d[offline_train_d['Coupon_id'].notna()]\n",
    "def label_func(receive, use):\n",
    "    if pd.isna(use):\n",
    "        return 0\n",
    "    datediff = (use-receive).days\n",
    "    if datediff <= 15:\n",
    "        return 1\n",
    "    else:\n",
    "        return -1\n",
    "labeled['datediff'] = (labeled['Date']-labeled['Date_received']).apply(lambda x:x.days)\n",
    "labeled['target'] = labeled.apply(lambda x:label_func(x.Date_received,x.Date),axis=1)"
   ]
  },
  {
   "cell_type": "code",
   "execution_count": 19,
   "id": "applied-rouge",
   "metadata": {},
   "outputs": [],
   "source": [
    "labeled.to_csv(\"dataset/train_target.csv\")"
   ]
  },
  {
   "cell_type": "code",
   "execution_count": 97,
   "id": "massive-wholesale",
   "metadata": {},
   "outputs": [
    {
     "data": {
      "text/plain": [
       " 0    977900\n",
       " 1     64395\n",
       "-1     10987\n",
       "Name: label, dtype: int64"
      ]
     },
     "execution_count": 97,
     "metadata": {},
     "output_type": "execute_result"
    }
   ],
   "source": [
    "labeled['tar'].value_counts()"
   ]
  },
  {
   "cell_type": "code",
   "execution_count": 102,
   "id": "charged-north",
   "metadata": {},
   "outputs": [],
   "source": [
    "labeled['month_received'] = labeled['Date_received'].apply(lambda x:x.month)\n",
    "\n",
    "month_stat = labeled.groupby(['month_received', 'label']).size().unstack(fill_value=0)"
   ]
  },
  {
   "cell_type": "code",
   "execution_count": 115,
   "id": "second-purpose",
   "metadata": {},
   "outputs": [
    {
     "data": {
      "text/html": [
       "<div>\n",
       "<style scoped>\n",
       "    .dataframe tbody tr th:only-of-type {\n",
       "        vertical-align: middle;\n",
       "    }\n",
       "\n",
       "    .dataframe tbody tr th {\n",
       "        vertical-align: top;\n",
       "    }\n",
       "\n",
       "    .dataframe thead th {\n",
       "        text-align: right;\n",
       "    }\n",
       "</style>\n",
       "<table border=\"1\" class=\"dataframe\">\n",
       "  <thead>\n",
       "    <tr style=\"text-align: right;\">\n",
       "      <th>label</th>\n",
       "      <th>-1</th>\n",
       "      <th>0</th>\n",
       "      <th>1</th>\n",
       "    </tr>\n",
       "    <tr>\n",
       "      <th>month_received</th>\n",
       "      <th></th>\n",
       "      <th></th>\n",
       "      <th></th>\n",
       "    </tr>\n",
       "  </thead>\n",
       "  <tbody>\n",
       "    <tr>\n",
       "      <th>1</th>\n",
       "      <td>3212</td>\n",
       "      <td>358478</td>\n",
       "      <td>9849</td>\n",
       "    </tr>\n",
       "    <tr>\n",
       "      <th>2</th>\n",
       "      <td>1336</td>\n",
       "      <td>126766</td>\n",
       "      <td>5331</td>\n",
       "    </tr>\n",
       "    <tr>\n",
       "      <th>3</th>\n",
       "      <td>921</td>\n",
       "      <td>87691</td>\n",
       "      <td>15291</td>\n",
       "    </tr>\n",
       "    <tr>\n",
       "      <th>4</th>\n",
       "      <td>1163</td>\n",
       "      <td>131098</td>\n",
       "      <td>5833</td>\n",
       "    </tr>\n",
       "    <tr>\n",
       "      <th>5</th>\n",
       "      <td>3336</td>\n",
       "      <td>190432</td>\n",
       "      <td>21580</td>\n",
       "    </tr>\n",
       "    <tr>\n",
       "      <th>6</th>\n",
       "      <td>1019</td>\n",
       "      <td>83435</td>\n",
       "      <td>6511</td>\n",
       "    </tr>\n",
       "  </tbody>\n",
       "</table>\n",
       "</div>"
      ],
      "text/plain": [
       "label             -1       0      1\n",
       "month_received                     \n",
       "1               3212  358478   9849\n",
       "2               1336  126766   5331\n",
       "3                921   87691  15291\n",
       "4               1163  131098   5833\n",
       "5               3336  190432  21580\n",
       "6               1019   83435   6511"
      ]
     },
     "execution_count": 115,
     "metadata": {},
     "output_type": "execute_result"
    }
   ],
   "source": [
    "month_stat"
   ]
  },
  {
   "cell_type": "code",
   "execution_count": 111,
   "id": "surprised-column",
   "metadata": {},
   "outputs": [
    {
     "data": {
      "text/html": [
       "<div>\n",
       "<style scoped>\n",
       "    .dataframe tbody tr th:only-of-type {\n",
       "        vertical-align: middle;\n",
       "    }\n",
       "\n",
       "    .dataframe tbody tr th {\n",
       "        vertical-align: top;\n",
       "    }\n",
       "\n",
       "    .dataframe thead th {\n",
       "        text-align: right;\n",
       "    }\n",
       "</style>\n",
       "<table border=\"1\" class=\"dataframe\">\n",
       "  <thead>\n",
       "    <tr style=\"text-align: right;\">\n",
       "      <th>label</th>\n",
       "      <th>-1</th>\n",
       "      <th>0</th>\n",
       "      <th>1</th>\n",
       "    </tr>\n",
       "    <tr>\n",
       "      <th>month_received</th>\n",
       "      <th></th>\n",
       "      <th></th>\n",
       "      <th></th>\n",
       "    </tr>\n",
       "  </thead>\n",
       "  <tbody>\n",
       "    <tr>\n",
       "      <th>1</th>\n",
       "      <td>0.008645</td>\n",
       "      <td>0.964846</td>\n",
       "      <td>0.026509</td>\n",
       "    </tr>\n",
       "    <tr>\n",
       "      <th>2</th>\n",
       "      <td>0.010013</td>\n",
       "      <td>0.950035</td>\n",
       "      <td>0.039953</td>\n",
       "    </tr>\n",
       "    <tr>\n",
       "      <th>3</th>\n",
       "      <td>0.008864</td>\n",
       "      <td>0.843970</td>\n",
       "      <td>0.147166</td>\n",
       "    </tr>\n",
       "    <tr>\n",
       "      <th>4</th>\n",
       "      <td>0.008422</td>\n",
       "      <td>0.949339</td>\n",
       "      <td>0.042239</td>\n",
       "    </tr>\n",
       "    <tr>\n",
       "      <th>5</th>\n",
       "      <td>0.015491</td>\n",
       "      <td>0.884299</td>\n",
       "      <td>0.100210</td>\n",
       "    </tr>\n",
       "    <tr>\n",
       "      <th>6</th>\n",
       "      <td>0.011202</td>\n",
       "      <td>0.917221</td>\n",
       "      <td>0.071577</td>\n",
       "    </tr>\n",
       "  </tbody>\n",
       "</table>\n",
       "</div>"
      ],
      "text/plain": [
       "label                 -1         0         1\n",
       "month_received                              \n",
       "1               0.008645  0.964846  0.026509\n",
       "2               0.010013  0.950035  0.039953\n",
       "3               0.008864  0.843970  0.147166\n",
       "4               0.008422  0.949339  0.042239\n",
       "5               0.015491  0.884299  0.100210\n",
       "6               0.011202  0.917221  0.071577"
      ]
     },
     "execution_count": 111,
     "metadata": {},
     "output_type": "execute_result"
    }
   ],
   "source": [
    "month_stat.div(month_stat.sum(axis=1),axis=0)"
   ]
  },
  {
   "cell_type": "markdown",
   "id": "continuing-closure",
   "metadata": {},
   "source": [
    "### users"
   ]
  },
  {
   "cell_type": "code",
   "execution_count": 30,
   "id": "minimal-experience",
   "metadata": {},
   "outputs": [],
   "source": [
    "offline_train_userset = set(offline_train_d.User_id.unique())\n",
    "online_train_userset = set(online_train_d.User_id.unique())\n",
    "offline_test_userset = set(offline_test_d.User_id.unique())"
   ]
  },
  {
   "cell_type": "code",
   "execution_count": 31,
   "id": "legislative-pasta",
   "metadata": {},
   "outputs": [
    {
     "name": "stdout",
     "output_type": "stream",
     "text": [
      "# user has offline data: 539438\n",
      "# user has online data: 762858\n",
      "# user in test set:76309\n"
     ]
    }
   ],
   "source": [
    "print('# user has offline data: {}'.format(len(offline_train_userset)))\n",
    "print('# user has online data: {}'.format(len(online_train_userset)))\n",
    "print('# user in test set:{}'.format(len(offline_test_userset)))"
   ]
  },
  {
   "cell_type": "code",
   "execution_count": 51,
   "id": "honey-forum",
   "metadata": {},
   "outputs": [
    {
     "name": "stdout",
     "output_type": "stream",
     "text": [
      "% test user in offline train data: 99.997%\n",
      "% test user in online train data: 56.553%\n"
     ]
    }
   ],
   "source": [
    "# test user in offline train data\n",
    "print('% test user in offline train data: {:.3%}'.format(1\n",
    "                    -len(offline_test_userset - offline_train_userset) \n",
    "                                                       / len(offline_test_userset)))\n",
    "\n",
    "# test user in online train data\n",
    "print('% test user in online train data: {:.3%}'.format(1\n",
    "                    -len(offline_test_userset - online_train_userset) \n",
    "                                                       / len(offline_test_userset)))\n"
   ]
  },
  {
   "cell_type": "markdown",
   "id": "purple-azerbaijan",
   "metadata": {},
   "source": [
    "### merchants"
   ]
  },
  {
   "cell_type": "code",
   "execution_count": 49,
   "id": "random-combining",
   "metadata": {},
   "outputs": [],
   "source": [
    "offline_train_mset = set(offline_train_d.Merchant_id.unique())\n",
    "online_train_mset = set(online_train_d.Merchant_id.unique())\n",
    "offline_test_mset = set(offline_test_d.Merchant_id.unique())"
   ]
  },
  {
   "cell_type": "code",
   "execution_count": 52,
   "id": "sublime-infrastructure",
   "metadata": {},
   "outputs": [
    {
     "name": "stdout",
     "output_type": "stream",
     "text": [
      "# merchant has offline data: 8415\n",
      "# merchant has online data: 7999\n",
      "# merchant in test set:1559\n"
     ]
    }
   ],
   "source": [
    "print('# merchant has offline data: {}'.format(len(offline_train_mset)))\n",
    "print('# merchant has online data: {}'.format(len(online_train_mset)))\n",
    "print('# merchant in test set:{}'.format(len(offline_test_mset)))"
   ]
  },
  {
   "cell_type": "code",
   "execution_count": 53,
   "id": "precise-boundary",
   "metadata": {},
   "outputs": [
    {
     "name": "stdout",
     "output_type": "stream",
     "text": [
      "% test merchant in offline train data: 99.936%\n",
      "% test merchant in online train data: 0.000%\n"
     ]
    }
   ],
   "source": [
    "# test user in offline train data\n",
    "print('% test merchant in offline train data: {:.3%}'.format(1\n",
    "                    -len(offline_test_mset - offline_train_mset) \n",
    "                                                       / len(offline_test_mset)))\n",
    "\n",
    "# test user in online train data\n",
    "print('% test merchant in online train data: {:.3%}'.format(1\n",
    "                    -len(offline_test_mset - online_train_mset) \n",
    "                                                       / len(offline_test_mset)))\n"
   ]
  },
  {
   "cell_type": "markdown",
   "id": "mental-spending",
   "metadata": {},
   "source": [
    "### coupons"
   ]
  },
  {
   "cell_type": "code",
   "execution_count": 54,
   "id": "chicken-consistency",
   "metadata": {},
   "outputs": [],
   "source": [
    "offline_train_cset = set(offline_train_d.Coupon_id.unique())\n",
    "online_train_cset = set(online_train_d.Coupon_id.unique())\n",
    "offline_test_cset = set(offline_test_d.Coupon_id.unique())"
   ]
  },
  {
   "cell_type": "code",
   "execution_count": 55,
   "id": "convinced-bacteria",
   "metadata": {},
   "outputs": [
    {
     "name": "stdout",
     "output_type": "stream",
     "text": [
      "# coupon has offline data: 9739\n",
      "# coupon has online data: 27748\n",
      "# coupon in test set:2050\n"
     ]
    }
   ],
   "source": [
    "print('# coupon has offline data: {}'.format(len(offline_train_cset)))\n",
    "print('# coupon has online data: {}'.format(len(online_train_cset)))\n",
    "print('# coupon in test set:{}'.format(len(offline_test_cset)))"
   ]
  },
  {
   "cell_type": "code",
   "execution_count": 56,
   "id": "legendary-andorra",
   "metadata": {},
   "outputs": [
    {
     "name": "stdout",
     "output_type": "stream",
     "text": [
      "% test coupon in offline train data: 54.537%\n",
      "% test coupon in online train data: 0.000%\n"
     ]
    }
   ],
   "source": [
    "# test user in offline train data\n",
    "print('% test coupon in offline train data: {:.3%}'.format(1\n",
    "                    -len(offline_test_cset - offline_train_cset) \n",
    "                                                       / len(offline_test_cset)))\n",
    "\n",
    "# test user in online train data\n",
    "print('% test coupon in online train data: {:.3%}'.format(1\n",
    "                    -len(offline_test_cset - online_train_cset) \n",
    "                                                       / len(offline_test_cset)))\n"
   ]
  },
  {
   "cell_type": "markdown",
   "id": "alert-belgium",
   "metadata": {},
   "source": [
    "## feature engineering "
   ]
  },
  {
   "cell_type": "code",
   "execution_count": 45,
   "id": "timely-farmer",
   "metadata": {},
   "outputs": [],
   "source": [
    "### "
   ]
  },
  {
   "cell_type": "code",
   "execution_count": null,
   "id": "determined-climate",
   "metadata": {},
   "outputs": [],
   "source": []
  }
 ],
 "metadata": {
  "kernelspec": {
   "display_name": "Python 3",
   "language": "python",
   "name": "python3"
  },
  "language_info": {
   "codemirror_mode": {
    "name": "ipython",
    "version": 3
   },
   "file_extension": ".py",
   "mimetype": "text/x-python",
   "name": "python",
   "nbconvert_exporter": "python",
   "pygments_lexer": "ipython3",
   "version": "3.8.5"
  },
  "toc-autonumbering": true
 },
 "nbformat": 4,
 "nbformat_minor": 5
}
